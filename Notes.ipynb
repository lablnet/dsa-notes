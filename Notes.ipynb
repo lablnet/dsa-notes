{
 "cells": [
  {
   "cell_type": "markdown",
   "metadata": {
    "colab_type": "text",
    "id": "view-in-github"
   },
   "source": [
    "<a href=\"https://colab.research.google.com/github/lablnet/Data_Structure/blob/main/Notes/Notes.ipynb\" target=\"_parent\"><img src=\"https://colab.research.google.com/assets/colab-badge.svg\" alt=\"Open In Colab\"/></a>"
   ]
  },
  {
   "cell_type": "markdown",
   "metadata": {
    "id": "6HDjEwGwMIst"
   },
   "source": [
    "These Notes written by [Muhammad Umer Farooq](https://github.com/lablnet)\n",
    "# Data Structures and Algroithms \n",
    "**These notes are not intend for newbies, it has prerequisites:**\n",
    "1. Strong knowledge of any programming including well understanding of OOP\n",
    "2. Basics knowledge of DIscrete Structure topic including, Proofs, Mathematical inductions, probability.and graph theory.\n",
    "\n",
    "These notes will cover Data Structures, Algroithms and etc."
   ]
  },
  {
   "cell_type": "code",
   "execution_count": null,
   "metadata": {
    "id": "aqAIycP1MIs3",
    "outputId": "2cb27ebd-8a92-4294-e77c-a84359e88622"
   },
   "outputs": [
    {
     "name": "stdout",
     "output_type": "stream",
     "text": [
      "Hello DSA\n"
     ]
    }
   ],
   "source": [
    "# have a fun \n",
    "def dsa():\n",
    "    print(\"Hello DSA\")\n",
    "dsa()"
   ]
  },
  {
   "cell_type": "markdown",
   "metadata": {
    "id": "TqYR_3MqMIs5"
   },
   "source": [
    "Data structure as its name suggests organized data into a meaningful way, whereby algorithms are step by step procedures to solve computation problems.\n",
    "\n",
    "The question can be asked why so many data structures and algorithms? Yes, it's absolutely right question to answer this question we need to consider the performance, complexity and optimized solution here we mean by **asymptotic complexity**. So in that case we will considered **Worst Case**\n",
    "\n",
    "  \n",
    "\n",
    "General problems in computers are searching and sorting, Everyone uses google nowadays, why? Because it gets the result so fast, with a blink of an eye. By sorting the data can be accessed, search or get more quickly. So that is why sorting and searching algorithms come into handy\n",
    "\n",
    "  \n",
    "\n",
    "## Algorithmic paradigms\n",
    "\n",
    "Algorithm paradigm is a general approach which underlies the class of an algorithm.\n",
    "\n",
    "  \n",
    "\n",
    "### Divide and Conquer\n",
    "\n",
    "Divide the problems into subproblems until they become very simple to solve directly by recursively or iteratively, then solve and put the solution in a given set.\n",
    "\n",
    "**Example:** Binary Search, Merge Sort etc.\n",
    "\n",
    "  \n",
    "\n",
    "### Greedy Algorithms\n",
    "\n",
    "Try to find an optimal solution and then stop and never go ahead and back.\n",
    "\n",
    "**Example:** Cashier Algorithm, knapsack problem etc.\n",
    "\n",
    "### Dynamic Programming\n",
    "\n",
    "Breaking problems into collections of simple subproblems.\n",
    "\n",
    "**Example:** Tower of Hanoi,\n",
    "\n",
    "  \n",
    "\n",
    "### Brute-force search\n",
    "\n",
    "Enumerate all possible elements in a given set, check whether the condition is found.\n",
    "\n",
    "**Example:** Linear Search, Minmax etc.\n",
    "\n",
    "  \n",
    "\n",
    "## Searching\n",
    "\n",
    "Searching is not meant to display records other than it means to find specific records if found then perform necessary action in our note we will consider three common searching algorithms.\n",
    "\n",
    "1. Linear Search\n",
    "\n",
    "2. Binary Search\n",
    "\n",
    "  \n",
    "\n",
    "## Linear Search\n",
    "\n",
    "Linear search is a very simple and straightforward searching algorithm, it starts comparing with the beginning of the list/array until the last element is found or item that we're searching for. It is also referred to as sequential search as we go in a sequence. It can be considered as old school magnetic tape where songs are stored sequence wise, so if we want to play the last song then we need to move the tape to that position.\n",
    "\n",
    "It is a brute force paradigm algorithm.\n",
    "\n",
    "  \n",
    "\n",
    "### Complexity of Linear Search\n",
    "\n",
    "The Worst Case Complexity of linear search is O(n), equal to the size of input.\n",
    "\n",
    "Hence linear search is not the best solution for large datasets.\n",
    "\n",
    "The deeply analysis can be found [here](https://github.com/lablnet/Data_Structure/tree/main/analysis/linear_search.pdf)\n",
    "\n",
    "### Algorithm\n",
    "\n",
    "1. Consider a set `A = {1,2,3 ... n}` having elements on it.\n",
    "\n",
    "2. Let's consider that we want to find `3` in the given set.\n",
    "\n",
    "3. Transverse through the list/array up to `n`.\n",
    "\n",
    "4. Compare the `A[i]` with item `3`\n",
    "\n",
    "5. If found, return it, and terminate the loop.\n",
    "\n",
    "6. If the item is not found and loop terminate, then it means we did not find any element.\n",
    "\n",
    "  \n",
    "  \n",
    "\n",
    "### Pseudocode\n",
    "\n",
    "  \n",
    "\n",
    "```python\n",
    "\n",
    "A := {1,2,3,4,5,6 ..}\n",
    "item := 3\n",
    "for i 1 to n:\n",
    "    if A[i] == item\n",
    "        return i\n",
    "return -1\n",
    "\n",
    "```\n",
    "\n",
    "### Python implementation"
   ]
  },
  {
   "cell_type": "code",
   "execution_count": null,
   "metadata": {
    "id": "u75LVgrZMIs8",
    "outputId": "257c5da4-7a4b-48a7-8923-30ef4d7ca879"
   },
   "outputs": [
    {
     "name": "stdout",
     "output_type": "stream",
     "text": [
      "2\n",
      "-1\n"
     ]
    }
   ],
   "source": [
    "def linear_search(lst: list, item: int):\n",
    "    for i in range(len(lst)): # Step 3\n",
    "        if lst[i] == item: # Step 4\n",
    "            return i # Step 5\n",
    "\n",
    "    return -1 # Step 6\n",
    "\n",
    "lst = [1, 5, 3, 2, 4, 9, 0] # Steo 1\n",
    "print(linear_search(lst, 3)) # Step 2 // Item found\n",
    "print(linear_search(lst, 40)) # Step 2 // Item not found\n"
   ]
  },
  {
   "cell_type": "markdown",
   "metadata": {
    "id": "Ky0cJS0BMIs9"
   },
   "source": [
    "## Binary Search\n",
    "\n",
    "Binary Search is a common algorithm that is used on sorted lists/arrays. Binary Search starts with the middle of the array/list and then compares to the targeted value, if values equals return it. Otherwise if it is less than middle element then the target value will be lies in left sub-list/sub-array and if it is greater than targeted value then the target value will be lies in right sub-list/sub-array, the process will continue until end of array or target value found.\n",
    "Binary search assumes that our list/array is sorted, so we must provide the sorted input array/list to binary search.\n",
    "\n",
    "\n",
    "It is a divide and conquer paradigm algorithm.\n",
    "\n",
    "\n",
    "### Complexity of Binary Search\n",
    "\n",
    "  \n",
    "\n",
    "The Worst Case Complexity of binary search is O(log n), log to the n to the size of input.\n",
    "\n",
    "Hence binary search can be considered as the best solution for large datasets.\n",
    "\n",
    "  \n",
    "The deeply analysis can be found [here](https://github.com/lablnet/Data_Structure/tree/main/analysis/bnary_search.pdf)\n",
    "\n",
    "### Algorithm  \n",
    "\n",
    "1. Consider a set `A = {1,2,3 ... n}` having elements on it.\n",
    "2. Let's consider that we want to find `3` in the given set.\n",
    "3. Set L equals zero, and R equals length of A\n",
    "4. Transverse through the list until L is less than R`.\n",
    "5. Find the Middle by following the formula.\n",
    "\t\ta. Middle = (Left + Right) / 2\n",
    "6. Compare the `A[middle]` with item `3`\n",
    "7. If it equals return it and loop terminate.\n",
    "8. If it is less than target value `3`then increment the middle by 1 and assign to L.\n",
    "9. Else decrement the middle by 1 and assign to L\n",
    "11. If the item is not found and the loop terminates, then it means we did not find any element.\n",
    "  \n",
    "\n",
    "### Pseudocode\n",
    "```python\n",
    "A := {1,2,3,4,5,6 ..}\n",
    "item := 3\n",
    "L := 0\n",
    "R := len(A)\n",
    "while L < R:\n",
    "\tMiddle := (L + R) / 2\n",
    "\t\tif A[Middle] == item:\n",
    "\t\t\treturn i\n",
    "\t\telse if A[Middle] < item:\n",
    "\t\t\tL := Middle + 1\n",
    "\t\telse:\n",
    "\t\t\tR := Middle - 1\n",
    "return -1\n",
    "```\n",
    "\n",
    " \n",
    "\n",
    "### Python implementation"
   ]
  },
  {
   "cell_type": "code",
   "execution_count": null,
   "metadata": {
    "id": "8WcS4_xAMIs-",
    "outputId": "7c27f790-08a6-4cc0-e2dd-f22fc532fc16"
   },
   "outputs": [
    {
     "name": "stdout",
     "output_type": "stream",
     "text": [
      "5\n",
      "-1\n"
     ]
    }
   ],
   "source": [
    "def binary_search(lst: list, item: int):\n",
    "    lst = sorted(lst) # Binary Search assume that list/array should be sorted.\n",
    "    first = 0 # Step 3\n",
    "    last = len(lst) - 1 # Step 3\n",
    "\n",
    "    while first <= last: # Step 4\n",
    "        mid = (last + first) // 2 # Step 5.a\n",
    "\n",
    "        if lst[mid] == item: # Step 6\n",
    "            return mid # Step 7\n",
    "        elif lst[mid] < item: # Step 8\n",
    "            first = mid + 1\n",
    "        else: # Step 9\n",
    "            last = mid - 1\n",
    "\n",
    "    return -1 # Step 10\n",
    "\n",
    "\n",
    "lst = [1, 2, 3, 4, 5, 6, 7, 8, 9, 10, 11] # Step 1\n",
    "print(binary_search(lst, 6)) # Step 2 // Item found\n",
    "print(binary_search(lst, 12)) # Step 2 // Item not found\n"
   ]
  },
  {
   "cell_type": "markdown",
   "metadata": {
    "id": "7GIcozjeMItA"
   },
   "source": [
    "### Visulize the running time of Algroithms.\n",
    "Okay, now we have two working algorithms.  Which one is faster?"
   ]
  },
  {
   "cell_type": "code",
   "execution_count": null,
   "metadata": {
    "id": "W8awZEDwMItB",
    "outputId": "7462b0f3-5247-4d29-93c1-49c7339b4ac1"
   },
   "outputs": [
    {
     "data": {
      "text/plain": [
       "Text(0.5, 1.0, 'Linear Search Vs Binary Search')"
      ]
     },
     "execution_count": 65,
     "metadata": {
      "tags": []
     },
     "output_type": "execute_result"
    },
    {
     "data": {
      "image/png": "[encoded data removed]",
      "text/plain": [
       "<Figure size 432x288 with 1 Axes>"
      ]
     },
     "metadata": {
      "needs_background": "light",
      "tags": []
     },
     "output_type": "display_data"
    }
   ],
   "source": [
    "from tryItABunch import tryItABunch\n",
    "\n",
    "\n",
    "nlinearSearch, tlinearSearch = tryItABunch( linear_search, startN = 50, endN = 1050, stepSize=50, numTrials=10, listMax = 100, algo = \"searching\" )\n",
    "nBinarySearch, tBinarySearch = tryItABunch( binary_search, startN = 50, endN = 1050, stepSize=50, numTrials=10, listMax = 100, algo = \"searching\") \n",
    "\n",
    "plt.plot(nlinearSearch, tlinearSearch, color=\"red\", label=\"Linear Search\")\n",
    "plt.plot(nBinarySearch, tBinarySearch, color=\"blue\", label=\"Binary Search\")\n",
    "plt.xlabel(\"n\")\n",
    "plt.ylabel(\"Time(ms)\")\n",
    "plt.legend()\n",
    "plt.title(\"Linear Search Vs Binary Search\")\n"
   ]
  },
  {
   "cell_type": "markdown",
   "metadata": {
    "id": "dCgz30vmMItD"
   },
   "source": [
    "## Sorting\n",
    "Sorting is a process of arranging items, but in the context of Computers the sorting means to arrange an array/list or any dataset either in ascending order, descending order or any other with different properties. There are many sorting algorithms but we consider few of them:\n",
    "1. Bubble Sort\n",
    "2. Selection Sort\n",
    "3. Insertion Sort\n",
    "4. Merge Sort\n",
    "*Note later we will also explore and look into radix and counting sort*\n",
    "\n",
    "**The sorting section is not yet completed**"
   ]
  },
  {
   "cell_type": "markdown",
   "metadata": {
    "id": "amVXfCYbMItD"
   },
   "source": [
    "### Bubble Sort\n",
    "Bubble sort is simplest sorting algorithm. it repeatedly steps through the list/array, compare the adjacent element and swap if they are in wrong order, it repeats the same process till last item of list.\n",
    " ### Complexity of Bubble Sort  \n",
    "\n",
    "The Worst Case Complexity of bubble sort is O${(n)}^2$, squared to the n to the size of input.\n",
    "\n",
    "Hence this is slowest algorithm for large dataset.\n",
    "  \n",
    "The deeply analysis can be found [here](https://github.com/lablnet/Data_Structure/tree/main/analysis/bnary_search.pdf)\n",
    "\n",
    "### Algorithm  \n",
    "\n",
    "1. Consider a set `A = {1,2,3 ... n}` having elements on it.\n",
    "2. Iterate over the list/array up to `n`\n",
    "3. Again iterate over the list/array start's from 1 to `n` - parent loop iterative value.\n",
    "4. Compare the adjacent element\n",
    "5. If they are in wrong order, swap it.\n",
    "\n",
    "### Pseudocode\n",
    "```python\n",
    "A := {1,2,3,4,5,6 ..}\n",
    "for i 1 to n:\n",
    "\tfor j 1 to n - i:\n",
    "\t\tif A[j] > A[j + 1]:\n",
    "\t\t\tswap( A[j + 1],  A[j])\n",
    "            \n",
    "\n",
    "```\n",
    "\n",
    "### Python implementation"
   ]
  },
  {
   "cell_type": "code",
   "execution_count": 2,
   "metadata": {},
   "outputs": [
    {
     "name": "stdout",
     "output_type": "stream",
     "text": [
      "[0, 1, 2, 2, 4, 5, 6, 8, 9, 10]\n"
     ]
    }
   ],
   "source": [
    "def bubble_sort(lst: list):\n",
    "    for i in range(0, len(lst) - 1): # Step 2\n",
    "        for j in range(0, (len(lst) - 1) - i): # Step 3\n",
    "            if lst[j] > lst[j+1]: # Step 3\n",
    "                (lst[j+1], lst[j]) = (lst[j], lst[j+1]) # Step 4\n",
    "\n",
    "    return lst\n",
    "\n",
    "\n",
    "lst = [6, 2, 1, 5, 4, 8, 2, 9, 0, 10] # Step 1\n",
    "print(bubble_sort(lst)) # Step 1"
   ]
  },
  {
   "cell_type": "markdown",
   "metadata": {},
   "source": [
    "### Selection Sort\n",
    "Selection sort is another sorting algorithm. It start's by repeatedly finding the minimum element from unsorted part and put it into the beginning.\n",
    "\n",
    " ### Complexity of Bubble Sort  \n",
    "\n",
    "The Worst Case Complexity of Selection sort is O${(n)}^2$, squared to the n to the size of input.\n",
    "\n",
    "Hence this is slowest algorithm for large dataset.\n",
    "  \n",
    "The deeply analysis can be found [here](https://github.com/lablnet/Data_Structure/tree/main/analysis/bnary_search.pdf)\n",
    "\n",
    "### Algorithm  \n",
    "\n",
    "1. Consider a set `A = {1,2,3 ... n}` having elements on it.\n",
    "2. Iterate over the list/array up to `n`\n",
    "3. Set index to the iterative value of above loop\n",
    "4. Again iterate over the list/array start's from `n` - parent loop iterative value to `n`.\n",
    "5. Find the index of minimum\n",
    "6. Swap the list/array item with A[index]\n",
    "\n",
    "### Pseudocode\n",
    "```python\n",
    "A := {1,2,3,4,5,6 ..}\n",
    "for i 1 to n:\n",
    "\tindex = i\n",
    "\tfor n - i 1 to n:\n",
    "\t    if A[index] > A[j]:\n",
    "                index = j\n",
    "    A[i], A[index] = A[index], A[i]\n",
    "\n",
    "```\n",
    "\n",
    "### Python implementation"
   ]
  },
  {
   "cell_type": "code",
   "execution_count": 3,
   "metadata": {},
   "outputs": [
    {
     "name": "stdout",
     "output_type": "stream",
     "text": [
      "[0, 1, 2, 2, 4, 5, 6, 8, 9, 10]\n"
     ]
    }
   ],
   "source": [
    "def selection_sort(lst: list):\n",
    "    for i in range(len(lst)): # Step 2\n",
    "        index = i # Step 3\n",
    "        for j in range(i+1, len(lst)): # Step 4\n",
    "            if lst[index] >lst[j]: # Step 4\n",
    "                index = j # Step 5\n",
    "              \n",
    "        lst[i], lst[index] = lst[index], lst[i] # Step 6\n",
    "        \n",
    "    return lst\n",
    "\n",
    "\n",
    "lst = [6, 2, 1, 5, 4, 8, 2, 9, 0, 10] # Step 1\n",
    "print(selection_sort(lst)) # Step 1"
   ]
  },
  {
   "cell_type": "markdown",
   "metadata": {},
   "source": [
    "## Insertion Sort\n",
    "This part is not completed, and will be completed with time."
   ]
  },
  {
   "cell_type": "code",
   "execution_count": 4,
   "metadata": {
    "id": "LEfn-gq0MItE",
    "outputId": "da941984-ee5c-415f-a4b7-ae4ed0412113"
   },
   "outputs": [
    {
     "data": {
      "text/plain": [
       "Text(0.5, 1.0, 'Sorting Algorithms Comparision')"
      ]
     },
     "execution_count": 4,
     "metadata": {},
     "output_type": "execute_result"
    },
    {
     "data": {
      "image/png": "[encoded data removed]",
      "text/plain": [
       "<Figure size 432x288 with 1 Axes>"
      ]
     },
     "metadata": {
      "needs_background": "light"
     },
     "output_type": "display_data"
    }
   ],
   "source": [
    "from tryItABunch import tryItABunch\n",
    "import matplotlib.pyplot as plt\n",
    "\n",
    "def insertion_sort(lst: list):\n",
    "    for i in range(1, len(lst)):\n",
    "        key = lst[i]\n",
    "        j = i - 1\n",
    "        while j >= 0 and key < lst[j]:\n",
    "            lst[j + 1] = lst[j]\n",
    "            j -= 1\n",
    "        lst[j + 1] = key\n",
    "\n",
    "    return lst\n",
    "        \n",
    "def merge(left, right):\n",
    "    result = []\n",
    "    i, j = 0, 0\n",
    "    while i < len(left) and j < len(right):\n",
    "        if left[i] < right[j]:\n",
    "            result.append(left[i])\n",
    "            i +=1\n",
    "        else:\n",
    "            result.append(right[j])\n",
    "            j += 1\n",
    "\n",
    "    while i < len(left):\n",
    "        result.append(left[i])\n",
    "        i += 1\n",
    "    while j < len(right ):\n",
    "        result.append(right[j])\n",
    "        j += 1\n",
    "\n",
    "    return result\n",
    "\n",
    "\n",
    "def mergeSort(lst):\n",
    "    if len(lst) < 2:\n",
    "        return lst\n",
    "    else:\n",
    "        middle = len(lst) // 2\n",
    "        left = mergeSort(lst[:middle])\n",
    "        right = mergeSort(lst[middle:])\n",
    "\n",
    "        return merge(left, right)\n",
    "        \n",
    "        \n",
    "nBubbleSort, tBubbleSort = tryItABunch( bubble_sort, startN = 50, endN = 1050, stepSize=50, numTrials=10, listMax = 10, algo = \"sorting\" )\n",
    "nInsertionSort, tInsertionSort = tryItABunch( insertion_sort, startN = 50, endN = 1050, stepSize=50, numTrials=10, listMax = 10, algo = \"sorting\") \n",
    "nSlectionSort, tSlectionSort = tryItABunch( selection_sort, startN = 50, endN = 1050, stepSize=50, numTrials=10, listMax = 10, algo = \"sorting\") \n",
    "nMergeSort, tMergeSort = tryItABunch( mergeSort, startN = 50, endN = 1050, stepSize=50, numTrials=10, listMax = 10, algo = \"sorting\") \n",
    "\n",
    "plt.plot(nBubbleSort, tBubbleSort, color=\"red\", label=\"Bubble Sort\")\n",
    "plt.plot(nInsertionSort, tInsertionSort, color=\"blue\", label=\"Insertion Sort\")\n",
    "plt.plot(nSlectionSort, tSlectionSort, color=\"yellow\", label=\"Slection Sort\")\n",
    "plt.plot(nMergeSort, tMergeSort, color=\"green\", label=\"Merge Sort\")\n",
    "\n",
    "\n",
    "plt.xlabel(\"n\")\n",
    "plt.ylabel(\"Time(ms)\")\n",
    "plt.legend()\n",
    "plt.title(\"Sorting Algorithms Comparision\")"
   ]
  }
 ],
 "metadata": {
  "colab": {
   "include_colab_link": true,
   "name": "Notes.ipynb",
   "provenance": []
  },
  "kernelspec": {
   "display_name": "Python 3",
   "language": "python",
   "name": "python3"
  },
  "language_info": {
   "codemirror_mode": {
    "name": "ipython",
    "version": 3
   },
   "file_extension": ".py",
   "mimetype": "text/x-python",
   "name": "python",
   "nbconvert_exporter": "python",
   "pygments_lexer": "ipython3",
   "version": "3.8.5"
  }
 },
 "nbformat": 4,
 "nbformat_minor": 1
}
